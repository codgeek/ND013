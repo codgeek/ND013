{
 "cells": [
  {
   "cell_type": "markdown",
   "metadata": {},
   "source": [
    "# Self-Driving Car Engineer Nanodegree\n",
    "\n",
    "## Deep Learning\n",
    "\n",
    "## Project: Build a Traffic Sign Recognition Classifier"
   ]
  },
  {
   "cell_type": "markdown",
   "metadata": {},
   "source": [
    "---\n",
    "## Step 0: Load The Data"
   ]
  },
  {
   "cell_type": "code",
   "execution_count": 1,
   "metadata": {
    "collapsed": true
   },
   "outputs": [],
   "source": [
    "# Load pickled data\n",
    "import pickle\n",
    "\n",
    "training_file = 'traffic-signs-data/train.p'\n",
    "validation_file= 'traffic-signs-data/valid.p'\n",
    "testing_file = 'traffic-signs-data/test.p'\n",
    "\n",
    "with open(training_file, mode='rb') as f:\n",
    "    train = pickle.load(f)\n",
    "with open(validation_file, mode='rb') as f:\n",
    "    valid = pickle.load(f)\n",
    "with open(testing_file, mode='rb') as f:\n",
    "    test = pickle.load(f)\n",
    "    \n",
    "X_train, y_train = train['features'], train['labels']\n",
    "X_valid, y_valid = valid['features'], valid['labels']\n",
    "X_test, y_test = test['features'], test['labels']"
   ]
  },
  {
   "cell_type": "markdown",
   "metadata": {},
   "source": [
    "---\n",
    "\n",
    "## Step 1: Dataset Summary & Exploration\n"
   ]
  },
  {
   "cell_type": "markdown",
   "metadata": {},
   "source": [
    "### Provide a Basic Summary of the Data Set Using Python, Numpy and/or Pandas"
   ]
  },
  {
   "cell_type": "code",
   "execution_count": 2,
   "metadata": {},
   "outputs": [
    {
     "name": "stdout",
     "output_type": "stream",
     "text": [
      "Number of training examples = 34799\n",
      "Number of testing examples = 12630\n",
      "Image data shape = (32, 32, 3)\n",
      "Number of classes = 43\n"
     ]
    }
   ],
   "source": [
    "import numpy as np\n",
    "# Number of training examples\n",
    "n_train = X_train.shape[0]\n",
    "\n",
    "#Number of validation examples\n",
    "n_validation = X_valid.shape[0]\n",
    "\n",
    "#Number of testing examples.\n",
    "n_test = X_test.shape[0]\n",
    "\n",
    "#What's the shape of an traffic sign image?\n",
    "image_shape = X_train[0].shape\n",
    "\n",
    "#How many unique classes/labels there are in the dataset.\n",
    "n_classes = len(np.unique(np.append(np.append(y_train,y_test,axis=0),y_valid,axis=0)))\n",
    "\n",
    "print(\"Number of training examples =\", n_train)\n",
    "print(\"Number of testing examples =\", n_test)\n",
    "print(\"Image data shape =\", image_shape)\n",
    "print(\"Number of classes =\", n_classes)"
   ]
  },
  {
   "cell_type": "markdown",
   "metadata": {},
   "source": [
    "### Exploratory visualization of the dataset"
   ]
  },
  {
   "cell_type": "code",
   "execution_count": 3,
   "metadata": {},
   "outputs": [
    {
     "name": "stdout",
     "output_type": "stream",
     "text": [
      "Image label is :  16\n"
     ]
    },
    {
     "data": {
      "image/png": "[encoded data removed]",
      "text/plain": [
       "<matplotlib.figure.Figure at 0x24fc7df5e48>"
      ]
     },
     "metadata": {},
     "output_type": "display_data"
    }
   ],
   "source": [
    "### Data exploration visualization code goes here.\n",
    "import random\n",
    "import numpy as np\n",
    "import matplotlib.pyplot as plt\n",
    "\n",
    "# Visualizations will be shown in the notebook.\n",
    "%matplotlib inline\n",
    "index = random.randint(0, len(X_train))\n",
    "image = X_train[index].squeeze()\n",
    "plt.figure(figsize=(2,2))\n",
    "plt.imshow(image)\n",
    "print('Image label is : ',y_train[index])"
   ]
  },
  {
   "cell_type": "markdown",
   "metadata": {},
   "source": [
    "### Distribution of classes in the training, validation and test set"
   ]
  },
  {
   "cell_type": "code",
   "execution_count": 4,
   "metadata": {},
   "outputs": [
    {
     "name": "stdout",
     "output_type": "stream",
     "text": [
      "\n",
      "Train set classes' distribution:\n"
     ]
    },
    {
     "data": {
      "image/png": "[encoded data removed]",
      "text/plain": [
       "<matplotlib.figure.Figure at 0x24fc89e3828>"
      ]
     },
     "metadata": {},
     "output_type": "display_data"
    },
    {
     "name": "stdout",
     "output_type": "stream",
     "text": [
      "Test set classes' distribution:\n"
     ]
    },
    {
     "data": {
      "image/png": "[encoded data removed]",
      "text/plain": [
       "<matplotlib.figure.Figure at 0x24fc89e3080>"
      ]
     },
     "metadata": {},
     "output_type": "display_data"
    },
    {
     "name": "stdout",
     "output_type": "stream",
     "text": [
      "Valid set classes' distribution:\n"
     ]
    },
    {
     "data": {
      "image/png": "[encoded data removed]",
      "text/plain": [
       "<matplotlib.figure.Figure at 0x24fc9a8ccf8>"
      ]
     },
     "metadata": {},
     "output_type": "display_data"
    }
   ],
   "source": [
    "def count_sign(y):\n",
    "    labels=np.zeros(n_classes)\n",
    "    for i in range(0,len(y)):\n",
    "        labels[y[i]] +=1\n",
    "    return labels\n",
    "    \n",
    "y_train_dis= count_sign(y_train)\n",
    "y_test_dis= count_sign(y_test)\n",
    "y_valid_dis= count_sign(y_valid)\n",
    "print(\"\")\n",
    "import matplotlib.pyplot as plt\n",
    "print('Train set classes\\' distribution:')\n",
    "plt.xlabel('category')\n",
    "plt.ylabel('number of images')\n",
    "plt.bar(range(len(y_train_dis)), y_train_dis)\n",
    "plt.show()\n",
    "\n",
    "plt.xlabel('category')\n",
    "plt.ylabel('number of images')\n",
    "print('Test set classes\\' distribution:')\n",
    "plt.bar(range(len(y_test_dis)), y_test_dis)\n",
    "plt.show()\n",
    "\n",
    "plt.xlabel('category')\n",
    "plt.ylabel('number of images')\n",
    "print('Valid set classes\\' distribution:')\n",
    "plt.bar(range(len(y_valid_dis)), y_valid_dis)\n",
    "plt.show()  \n",
    "\n",
    "max_images_per_label=np.max(y_train_dis)+500"
   ]
  },
  {
   "cell_type": "markdown",
   "metadata": {},
   "source": [
    "----\n",
    "\n",
    "## Step 2: Design and Test a Model Architecture"
   ]
  },
  {
   "cell_type": "markdown",
   "metadata": {},
   "source": [
    "### Preprocess data ( Augmentation, Normalize, RGB2gray )"
   ]
  },
  {
   "cell_type": "code",
   "execution_count": 5,
   "metadata": {},
   "outputs": [],
   "source": [
    "import cv2\n",
    "import random\n",
    "\n",
    "##Helper functions\n",
    "'''\n",
    "    Data augmentation techniques:\n",
    "    random rotate - -20 ~ +20 degree\n",
    "    random scale - 0.5 ~ 1.5 scale\n",
    "    random translate - -2 ~ +2 pixel\n",
    "    random shear - -10 ~ +10 degree\n",
    "    random brightness - 0.5 ~ 2.0 factor\n",
    "'''\n",
    "\n",
    "def image_rotate(img, angle):\n",
    "    \"\"\"Rotate the image by angle\"\"\"\n",
    "    rows, cols, dims = img.shape\n",
    "    matrix = cv2.getRotationMatrix2D((cols / 2, rows / 2), angle, 1)\n",
    "    return cv2.warpAffine(img, matrix, (cols, rows))\n",
    "\n",
    "\n",
    "def image_scale(img, scale):\n",
    "    \"\"\"Adjust the image size by scale\"\"\"\n",
    "    rows, cols, dims = img.shape\n",
    "    matrix = cv2.getRotationMatrix2D((cols/2, rows/2), 0, scale)\n",
    "    return cv2.warpAffine(image, matrix, (cols, rows))\n",
    "\n",
    "\n",
    "def image_translate(img, x, y):\n",
    "    \"\"\"Translate image by the value of x and y\"\"\"\n",
    "    rows, cols, dims = img.shape\n",
    "    matrix = np.float32([[1, 0, x], [0, 1, y]])\n",
    "    return cv2.warpAffine(img, matrix, (cols, rows))\n",
    "\n",
    "\n",
    "def image_shear(img, shear_range):\n",
    "    \"\"\"Shear image randomly by the factor of shear_range\"\"\"\n",
    "    rows, cols, dims = img.shape\n",
    "    \n",
    "    pts1 = np.float32([[5, 5],[20, 5],[5, 20]])\n",
    "\n",
    "    pt1 = 5 + shear_range * np.random.uniform() - shear_range / 2\n",
    "    pt2 = 20 + shear_range * np.random.uniform() - shear_range / 2\n",
    "\n",
    "    pts2 = np.float32([[pt1, 5], [pt2, pt1], [5, pt2]])\n",
    "\n",
    "    matrix = cv2.getAffineTransform(pts1, pts2)\n",
    "    \n",
    "    return cv2.warpAffine(img, matrix, (cols, rows))\n",
    "\n",
    "\n",
    "def image_brightness(image, factor):\n",
    "    \n",
    "    hsv = cv2.cvtColor(image,cv2.COLOR_RGB2HSV)\n",
    "    hsv[:,:,2] = np.minimum(hsv[:,:,2] * factor, 255)\n",
    "    \n",
    "    return cv2.cvtColor(hsv,cv2.COLOR_HSV2RGB)\n",
    "\n",
    "\n",
    "def random_image_transform(image):\n",
    "    \n",
    "    randomAngle = random.uniform(-20, 20)\n",
    "    output = image_rotate(image, randomAngle)\n",
    "    \n",
    "    randomScale = random.uniform(0.5, 1.5)\n",
    "    output = image_scale(output, randomScale)\n",
    "    \n",
    "    randomFactor = random.uniform(0.5, 2.0)\n",
    "    output = image_brightness(output, randomFactor)\n",
    "\n",
    "    randomX = random.uniform(-2, 2)\n",
    "    randomY = random.uniform(-2, 2)\n",
    "    output = image_translate(output, randomX, randomY)\n",
    "    \n",
    "    randomShear = random.uniform(-10, 10)\n",
    "    output = image_shear(output, randomShear)\n",
    "    \n",
    "    return output\n",
    "\n",
    "#Center normalize\n",
    "def center_normalize(img):\n",
    "    \n",
    "    img = img.astype('float32')\n",
    "    img = (img - 128)/128\n",
    "    return img\n",
    "\n",
    "#Grayscale\n",
    "def grayscale(image):\n",
    "    \n",
    "    imgs = np.ndarray((image.shape[0], 32, 32, 1), dtype=np.uint8)\n",
    "    for i, img in enumerate(image):\n",
    "        img = cv2.cvtColor(img, cv2.COLOR_BGR2GRAY)\n",
    "        img = cv2.equalizeHist(img)\n",
    "        img = np.expand_dims(img, axis=2)\n",
    "        imgs[i] = img\n",
    "    \n",
    "    return imgs\n",
    "\n",
    "def preprocess(img):\n",
    "    \n",
    "    img = grayscale(img)\n",
    "    img = center_normalize(img)\n",
    "    return img"
   ]
  },
  {
   "cell_type": "code",
   "execution_count": 6,
   "metadata": {},
   "outputs": [
    {
     "data": {
      "image/png": "[encoded data removed]",
      "text/plain": [
       "<matplotlib.figure.Figure at 0x24fc89e3550>"
      ]
     },
     "metadata": {},
     "output_type": "display_data"
    }
   ],
   "source": [
    "# Show how data augmentation look like \n",
    "image = X_train[1000, :, :, :]\n",
    "\n",
    "transform_exmpl = [image,\n",
    "                   image_rotate(image, 10),\n",
    "                   image_scale(image, 1.2),\n",
    "                   image_translate(image, 5, -5),\n",
    "                   image_shear(image, 10),\n",
    "                   image_brightness(image, 2.0)]\n",
    "\n",
    "transform_title = ['Original', 'Rotate', 'Scale', 'Translate', 'Shear', 'Brightness']\n",
    "\n",
    "fig, sign = plt.subplots(1, 6, figsize=(8,5))\n",
    "for i in range(6):\n",
    "    sign[i].imshow(transform_exmpl[i])\n",
    "    sign[i].axis('off')\n",
    "    sign[i].set_title(transform_title[i])"
   ]
  },
  {
   "cell_type": "code",
   "execution_count": 7,
   "metadata": {},
   "outputs": [
    {
     "name": "stdout",
     "output_type": "stream",
     "text": [
      "Number of preprocessed training data = 107930\n",
      "Number of preprocessed validation data = 4410\n",
      "Number of testing data = 12630\n",
      "Train data shape = (32, 32, 1)\n",
      "\n"
     ]
    }
   ],
   "source": [
    "### Preprocess the data here. It is required to normalize the data. Other preprocessing steps could include \n",
    "### converting to grayscale, etc.\n",
    "\n",
    "import numpy as np\n",
    "\n",
    "#Generate fake data\n",
    "new_train=[]\n",
    "new_label=[]\n",
    "\n",
    "while np.sum(y_train_dis) < n_classes * max_images_per_label:\n",
    "    for index, image in enumerate(X_train):\n",
    "        img_class = y_train[index]\n",
    "        \n",
    "        if y_train_dis[img_class] < max_images_per_label:\n",
    "            \n",
    "            new_train.append(random_image_transform(image))\n",
    "            new_label.append(img_class)\n",
    "            y_train_dis[img_class] += 1\n",
    "\n",
    "X_train_n = np.append(X_train, new_train, axis=0)\n",
    "y_train_n = np.append(y_train, new_label, axis=0)\n",
    "\n",
    "X_train = X_train_n\n",
    "y_train = y_train_n\n",
    "\n",
    "# Preprocess the data\n",
    "X_train_preprocess = preprocess(X_train)\n",
    "X_valid_preprocess = preprocess(X_valid)\n",
    "X_test_preprocess = preprocess(X_test)\n",
    "\n",
    "print(\"Number of preprocessed training data =\", X_train_preprocess.shape[0])\n",
    "print(\"Number of preprocessed validation data =\", X_valid_preprocess.shape[0])\n",
    "print(\"Number of testing data =\", X_test_preprocess.shape[0])\n",
    "print(\"Train data shape =\", X_train_preprocess.shape[1:4])\n",
    "print()\n",
    "\n",
    "\n",
    "X_train = X_train_preprocess\n",
    "X_valid = X_valid_preprocess\n",
    "X_test = X_test_preprocess"
   ]
  },
  {
   "cell_type": "markdown",
   "metadata": {},
   "source": [
    "### Setup TensorFlow"
   ]
  },
  {
   "cell_type": "code",
   "execution_count": 8,
   "metadata": {
    "collapsed": true
   },
   "outputs": [],
   "source": [
    "import tensorflow as tf\n",
    "\n",
    "EPOCHS = 100\n",
    "BATCH_SIZE = 128\n",
    "KEEP_PROB= 0.5"
   ]
  },
  {
   "cell_type": "markdown",
   "metadata": {},
   "source": [
    "### Model Architecture"
   ]
  },
  {
   "cell_type": "code",
   "execution_count": 9,
   "metadata": {
    "collapsed": true
   },
   "outputs": [],
   "source": [
    "from tensorflow.contrib.layers import flatten\n",
    "\n",
    "\n",
    "def TSCNet(x,keep_prob):    \n",
    "    # Arguments used for tf.truncated_normal, randomly defines variables for the weights and biases for each layer\n",
    "    mu = 0\n",
    "    sigma = 0.1\n",
    "    \n",
    "    #Layer 1: Convolutional. Input = 32x32x3. Output = 28x28x6.\n",
    "    conv1_W = tf.Variable(tf.truncated_normal(shape=(5, 5, 1, 6), mean = mu, stddev = sigma))\n",
    "    conv1_b = tf.Variable(tf.zeros(6))\n",
    "    conv1   = tf.nn.conv2d(x, conv1_W, strides=[1, 1, 1, 1], padding='VALID') + conv1_b\n",
    "\n",
    "    #Activation.\n",
    "    conv1 = tf.nn.relu(conv1)\n",
    "\n",
    "    #Pooling. Input = 28x28x6. Output = 14x14x6.\n",
    "    conv1 = tf.nn.max_pool(conv1, ksize=[1, 2, 2, 1], strides=[1, 2, 2, 1], padding='VALID')\n",
    "\n",
    "    #Layer 2: Convolutional. Output = 10x10x16.\n",
    "    conv2_W = tf.Variable(tf.truncated_normal(shape=(5, 5, 6, 16), mean = mu, stddev = sigma))\n",
    "    conv2_b = tf.Variable(tf.zeros(16))\n",
    "    conv2   = tf.nn.conv2d(conv1, conv2_W, strides=[1, 1, 1, 1], padding='VALID') + conv2_b\n",
    "    \n",
    "    #Activation.\n",
    "    conv2 = tf.nn.relu(conv2)\n",
    "    #conv2    = tf.nn.dropout(conv2, keep_prob)\n",
    "    \n",
    "    #Pooling. Input = 10x10x16. Output = 5x5x16.\n",
    "    conv2 = tf.nn.max_pool(conv2, ksize=[1, 2, 2, 1], strides=[1, 2, 2, 1], padding='VALID')\n",
    "\n",
    "    #Flatten. Input = 5x5x16. Output = 400.\n",
    "    fc0   = flatten(conv2)\n",
    "    \n",
    "    #Layer 3: Fully Connected. Input = 400. Output = 120.\n",
    "    fc1_W = tf.Variable(tf.truncated_normal(shape=(400, 120), mean = mu, stddev = sigma))\n",
    "    fc1_b = tf.Variable(tf.zeros(120))\n",
    "    fc1   = tf.matmul(fc0, fc1_W) + fc1_b\n",
    "    \n",
    "    #Activation.\n",
    "    fc1    = tf.nn.relu(fc1)\n",
    "    #dropout\n",
    "    #fc1    = tf.nn.dropout(fc1, keep_prob)\n",
    "    \n",
    "    #Layer 4: Fully Connected. Input = 120. Output = 84.\n",
    "    fc2_W  = tf.Variable(tf.truncated_normal(shape=(120, 84), mean = mu, stddev = sigma))\n",
    "    fc2_b  = tf.Variable(tf.zeros(84))\n",
    "    fc2    = tf.matmul(fc1, fc2_W) + fc2_b\n",
    "    \n",
    "    #Activation.\n",
    "    fc2    = tf.nn.relu(fc2)\n",
    "    #dropout\n",
    "    fc2    = tf.nn.dropout(fc2, keep_prob)\n",
    "    \n",
    "    #Layer 5: Fully Connected. Input = 84. Output = n_classes.\n",
    "    fc3_W  = tf.Variable(tf.truncated_normal(shape=(84, n_classes), mean = mu, stddev = sigma))\n",
    "    fc3_b  = tf.Variable(tf.zeros(n_classes))\n",
    "    logits = tf.matmul(fc2, fc3_W) + fc3_b\n",
    "    l2_loss = tf.nn.l2_loss(conv1_W) + tf.nn.l2_loss(conv1_b) + tf.nn.l2_loss(conv2_W) + tf.nn.l2_loss(conv2_b)+tf.nn.l2_loss(fc1_W) + tf.nn.l2_loss(fc1_b)+tf.nn.l2_loss(fc2_W) + tf.nn.l2_loss(fc2_b)+tf.nn.l2_loss(fc3_W) + tf.nn.l2_loss(fc3_b)\n",
    "    return logits,l2_loss"
   ]
  },
  {
   "cell_type": "markdown",
   "metadata": {},
   "source": [
    "### Train, Validate and Test the Model"
   ]
  },
  {
   "cell_type": "code",
   "execution_count": 10,
   "metadata": {
    "collapsed": true
   },
   "outputs": [],
   "source": [
    "#Placeholders\n",
    "x = tf.placeholder(tf.float32, (None, 32, 32, 1))\n",
    "y = tf.placeholder(tf.int32, (None))\n",
    "one_hot_y = tf.one_hot(y, n_classes)\n",
    "keep_prob = tf.placeholder(tf.float32)"
   ]
  },
  {
   "cell_type": "markdown",
   "metadata": {
    "collapsed": true
   },
   "source": [
    "### Train Pipeline"
   ]
  },
  {
   "cell_type": "code",
   "execution_count": 11,
   "metadata": {
    "collapsed": true
   },
   "outputs": [],
   "source": [
    "rate = 0.001\n",
    "\n",
    "logits,l2loss = TSCNet(x,keep_prob)\n",
    "cross_entropy = tf.nn.softmax_cross_entropy_with_logits(labels=one_hot_y, logits=logits)\n",
    "\n",
    "##L2 Regularation preventing overfitting \n",
    "\n",
    "beta = 0.001\n",
    "loss_operation = tf.reduce_mean(cross_entropy)+beta*l2loss\n",
    "optimizer = tf.train.AdamOptimizer(learning_rate = rate)\n",
    "training_operation = optimizer.minimize(loss_operation)"
   ]
  },
  {
   "cell_type": "markdown",
   "metadata": {},
   "source": [
    "### Model Evaluation"
   ]
  },
  {
   "cell_type": "code",
   "execution_count": 12,
   "metadata": {
    "collapsed": true
   },
   "outputs": [],
   "source": [
    "correct_prediction = tf.equal(tf.argmax(logits, 1), tf.argmax(one_hot_y, 1))\n",
    "accuracy_operation = tf.reduce_mean(tf.cast(correct_prediction, tf.float32))\n",
    "saver = tf.train.Saver()\n",
    "\n",
    "def evaluate(X_data, y_data):\n",
    "    num_examples = len(X_data)\n",
    "    total_accuracy = 0\n",
    "    sess = tf.get_default_session()\n",
    "    for offset in range(0, num_examples, BATCH_SIZE):\n",
    "        batch_x, batch_y = X_data[offset:offset+BATCH_SIZE], y_data[offset:offset+BATCH_SIZE]\n",
    "        accuracy = sess.run(accuracy_operation, feed_dict={x: batch_x, y: batch_y, keep_prob:1.0})\n",
    "        #loss = sess.run(loss_operation, feed_dict={x: batch_x, y: batch_y})\n",
    "        #print(\"Evaluate Loss = {:.3f}\".format(loss))\n",
    "        total_accuracy += (accuracy * len(batch_x))\n",
    "    return total_accuracy / num_examples"
   ]
  },
  {
   "cell_type": "markdown",
   "metadata": {},
   "source": [
    "### Train the Model"
   ]
  },
  {
   "cell_type": "code",
   "execution_count": 13,
   "metadata": {
    "scrolled": true
   },
   "outputs": [
    {
     "name": "stdout",
     "output_type": "stream",
     "text": [
      "Training...\n",
      "\n",
      "EPOCH 1 ...\n",
      "Validation Accuracy = 0.809\n",
      "\n",
      "EPOCH 2 ...\n",
      "Validation Accuracy = 0.879\n",
      "\n",
      "EPOCH 3 ...\n",
      "Validation Accuracy = 0.911\n",
      "\n",
      "EPOCH 4 ...\n",
      "Validation Accuracy = 0.925\n",
      "\n",
      "EPOCH 5 ...\n",
      "Validation Accuracy = 0.937\n",
      "\n",
      "EPOCH 6 ...\n",
      "Validation Accuracy = 0.951\n",
      "\n",
      "EPOCH 7 ...\n",
      "Validation Accuracy = 0.950\n",
      "\n",
      "EPOCH 8 ...\n",
      "Validation Accuracy = 0.960\n",
      "\n",
      "EPOCH 9 ...\n",
      "Validation Accuracy = 0.945\n",
      "\n",
      "EPOCH 10 ...\n",
      "Validation Accuracy = 0.950\n",
      "\n",
      "EPOCH 11 ...\n",
      "Validation Accuracy = 0.961\n",
      "\n",
      "EPOCH 12 ...\n",
      "Validation Accuracy = 0.953\n",
      "\n",
      "EPOCH 13 ...\n",
      "Validation Accuracy = 0.967\n",
      "\n",
      "EPOCH 14 ...\n",
      "Validation Accuracy = 0.960\n",
      "\n",
      "EPOCH 15 ...\n",
      "Validation Accuracy = 0.958\n",
      "\n",
      "EPOCH 16 ...\n",
      "Validation Accuracy = 0.960\n",
      "\n",
      "EPOCH 17 ...\n",
      "Validation Accuracy = 0.967\n",
      "\n",
      "EPOCH 18 ...\n",
      "Validation Accuracy = 0.964\n",
      "\n",
      "EPOCH 19 ...\n",
      "Validation Accuracy = 0.960\n",
      "\n",
      "EPOCH 20 ...\n",
      "Validation Accuracy = 0.970\n",
      "\n",
      "EPOCH 21 ...\n",
      "Validation Accuracy = 0.973\n",
      "\n",
      "EPOCH 22 ...\n",
      "Validation Accuracy = 0.972\n",
      "\n",
      "EPOCH 23 ...\n",
      "Validation Accuracy = 0.968\n",
      "\n",
      "EPOCH 24 ...\n",
      "Validation Accuracy = 0.968\n",
      "\n",
      "EPOCH 25 ...\n",
      "Validation Accuracy = 0.966\n",
      "\n",
      "EPOCH 26 ...\n",
      "Validation Accuracy = 0.970\n",
      "\n",
      "EPOCH 27 ...\n",
      "Validation Accuracy = 0.968\n",
      "\n",
      "EPOCH 28 ...\n",
      "Validation Accuracy = 0.971\n",
      "\n",
      "EPOCH 29 ...\n",
      "Validation Accuracy = 0.972\n",
      "\n",
      "EPOCH 30 ...\n",
      "Validation Accuracy = 0.980\n",
      "\n",
      "EPOCH 31 ...\n",
      "Validation Accuracy = 0.974\n",
      "\n",
      "EPOCH 32 ...\n",
      "Validation Accuracy = 0.966\n",
      "\n",
      "EPOCH 33 ...\n",
      "Validation Accuracy = 0.972\n",
      "\n",
      "EPOCH 34 ...\n",
      "Validation Accuracy = 0.974\n",
      "\n",
      "EPOCH 35 ...\n",
      "Validation Accuracy = 0.973\n",
      "\n",
      "EPOCH 36 ...\n",
      "Validation Accuracy = 0.970\n",
      "\n",
      "EPOCH 37 ...\n",
      "Validation Accuracy = 0.972\n",
      "\n",
      "EPOCH 38 ...\n",
      "Validation Accuracy = 0.969\n",
      "\n",
      "EPOCH 39 ...\n",
      "Validation Accuracy = 0.968\n",
      "\n",
      "EPOCH 40 ...\n",
      "Validation Accuracy = 0.965\n",
      "\n",
      "EPOCH 41 ...\n",
      "Validation Accuracy = 0.967\n",
      "\n",
      "EPOCH 42 ...\n",
      "Validation Accuracy = 0.964\n",
      "\n",
      "EPOCH 43 ...\n",
      "Validation Accuracy = 0.964\n",
      "\n",
      "EPOCH 44 ...\n",
      "Validation Accuracy = 0.973\n",
      "\n",
      "EPOCH 45 ...\n",
      "Validation Accuracy = 0.976\n",
      "\n",
      "EPOCH 46 ...\n",
      "Validation Accuracy = 0.972\n",
      "\n",
      "EPOCH 47 ...\n",
      "Validation Accuracy = 0.971\n",
      "\n",
      "EPOCH 48 ...\n",
      "Validation Accuracy = 0.970\n",
      "\n",
      "EPOCH 49 ...\n",
      "Validation Accuracy = 0.972\n",
      "\n",
      "EPOCH 50 ...\n",
      "Validation Accuracy = 0.970\n",
      "\n",
      "EPOCH 51 ...\n",
      "Validation Accuracy = 0.967\n",
      "\n",
      "EPOCH 52 ...\n",
      "Validation Accuracy = 0.970\n",
      "\n",
      "EPOCH 53 ...\n",
      "Validation Accuracy = 0.963\n",
      "\n",
      "EPOCH 54 ...\n",
      "Validation Accuracy = 0.973\n",
      "\n",
      "EPOCH 55 ...\n",
      "Validation Accuracy = 0.965\n",
      "\n",
      "EPOCH 56 ...\n",
      "Validation Accuracy = 0.971\n",
      "\n",
      "EPOCH 57 ...\n",
      "Validation Accuracy = 0.973\n",
      "\n",
      "EPOCH 58 ...\n",
      "Validation Accuracy = 0.971\n",
      "\n",
      "EPOCH 59 ...\n",
      "Validation Accuracy = 0.971\n",
      "\n",
      "EPOCH 60 ...\n",
      "Validation Accuracy = 0.968\n",
      "\n",
      "EPOCH 61 ...\n",
      "Validation Accuracy = 0.968\n",
      "\n",
      "EPOCH 62 ...\n",
      "Validation Accuracy = 0.973\n",
      "\n",
      "EPOCH 63 ...\n",
      "Validation Accuracy = 0.976\n",
      "\n",
      "EPOCH 64 ...\n",
      "Validation Accuracy = 0.963\n",
      "\n",
      "EPOCH 65 ...\n",
      "Validation Accuracy = 0.971\n",
      "\n",
      "EPOCH 66 ...\n",
      "Validation Accuracy = 0.961\n",
      "\n",
      "EPOCH 67 ...\n",
      "Validation Accuracy = 0.967\n",
      "\n",
      "EPOCH 68 ...\n",
      "Validation Accuracy = 0.974\n",
      "\n",
      "EPOCH 69 ...\n",
      "Validation Accuracy = 0.968\n",
      "\n",
      "EPOCH 70 ...\n",
      "Validation Accuracy = 0.970\n",
      "\n",
      "EPOCH 71 ...\n",
      "Validation Accuracy = 0.973\n",
      "\n",
      "EPOCH 72 ...\n",
      "Validation Accuracy = 0.967\n",
      "\n",
      "EPOCH 73 ...\n",
      "Validation Accuracy = 0.969\n",
      "\n",
      "EPOCH 74 ...\n",
      "Validation Accuracy = 0.968\n",
      "\n",
      "EPOCH 75 ...\n",
      "Validation Accuracy = 0.967\n",
      "\n",
      "EPOCH 76 ...\n",
      "Validation Accuracy = 0.970\n",
      "\n",
      "EPOCH 77 ...\n",
      "Validation Accuracy = 0.974\n",
      "\n",
      "EPOCH 78 ...\n",
      "Validation Accuracy = 0.973\n",
      "\n",
      "EPOCH 79 ...\n",
      "Validation Accuracy = 0.975\n",
      "\n",
      "EPOCH 80 ...\n",
      "Validation Accuracy = 0.972\n",
      "\n",
      "EPOCH 81 ...\n",
      "Validation Accuracy = 0.964\n",
      "\n",
      "EPOCH 82 ...\n",
      "Validation Accuracy = 0.969\n",
      "\n",
      "EPOCH 83 ...\n",
      "Validation Accuracy = 0.973\n",
      "\n",
      "EPOCH 84 ...\n",
      "Validation Accuracy = 0.969\n",
      "\n",
      "EPOCH 85 ...\n",
      "Validation Accuracy = 0.976\n",
      "\n",
      "EPOCH 86 ...\n",
      "Validation Accuracy = 0.974\n",
      "\n",
      "EPOCH 87 ...\n",
      "Validation Accuracy = 0.969\n",
      "\n",
      "EPOCH 88 ...\n",
      "Validation Accuracy = 0.974\n",
      "\n",
      "EPOCH 89 ...\n",
      "Validation Accuracy = 0.973\n",
      "\n",
      "EPOCH 90 ...\n",
      "Validation Accuracy = 0.976\n",
      "\n",
      "EPOCH 91 ...\n",
      "Validation Accuracy = 0.968\n",
      "\n",
      "EPOCH 92 ...\n",
      "Validation Accuracy = 0.968\n",
      "\n",
      "EPOCH 93 ...\n",
      "Validation Accuracy = 0.971\n",
      "\n",
      "EPOCH 94 ...\n",
      "Validation Accuracy = 0.975\n",
      "\n",
      "EPOCH 95 ...\n",
      "Validation Accuracy = 0.974\n",
      "\n",
      "EPOCH 96 ...\n",
      "Validation Accuracy = 0.971\n",
      "\n",
      "EPOCH 97 ...\n",
      "Validation Accuracy = 0.973\n",
      "\n",
      "EPOCH 98 ...\n",
      "Validation Accuracy = 0.971\n",
      "\n",
      "EPOCH 99 ...\n",
      "Validation Accuracy = 0.966\n",
      "\n",
      "EPOCH 100 ...\n",
      "Validation Accuracy = 0.971\n",
      "\n",
      "Model saved\n"
     ]
    }
   ],
   "source": [
    "from sklearn.utils import shuffle\n",
    "\n",
    "with tf.Session() as sess:\n",
    "    sess.run(tf.global_variables_initializer())\n",
    "    num_examples = len(X_train)\n",
    "    \n",
    "    print(\"Training...\")\n",
    "    print()\n",
    "    for i in range(EPOCHS):\n",
    "        X_train, y_train = shuffle(X_train, y_train)\n",
    "        for offset in range(0, num_examples, BATCH_SIZE):\n",
    "            end = offset + BATCH_SIZE\n",
    "            batch_x, batch_y = X_train[offset:end], y_train[offset:end]\n",
    "            sess.run(training_operation, feed_dict={x: batch_x, y: batch_y, keep_prob:KEEP_PROB})\n",
    "            #loss = sess.run(loss_operation, feed_dict={x: batch_x, y: batch_y,keep_prob:1.0})\n",
    "            #print(\"Train Loss = {:.3f}\".format(loss))\n",
    "        validation_accuracy = evaluate(X_valid, y_valid)\n",
    "        print(\"EPOCH {} ...\".format(i+1))\n",
    "        print(\"Validation Accuracy = {:.3f}\".format(validation_accuracy))\n",
    "        print()\n",
    "        \n",
    "    saver.save(sess, './tscnet')\n",
    "    print(\"Model saved\")"
   ]
  },
  {
   "cell_type": "markdown",
   "metadata": {},
   "source": [
    "### Evaluate the Model"
   ]
  },
  {
   "cell_type": "code",
   "execution_count": 14,
   "metadata": {},
   "outputs": [
    {
     "name": "stdout",
     "output_type": "stream",
     "text": [
      "INFO:tensorflow:Restoring parameters from .\\tscnet\n",
      "Test Accuracy = 0.936\n"
     ]
    }
   ],
   "source": [
    "with tf.Session() as sess:\n",
    "    saver.restore(sess, tf.train.latest_checkpoint('.'))\n",
    "\n",
    "    test_accuracy = evaluate(X_test, y_test)\n",
    "    print(\"Test Accuracy = {:.3f}\".format(test_accuracy))"
   ]
  },
  {
   "cell_type": "markdown",
   "metadata": {},
   "source": [
    "## Step 3: Test a Model on New Images\n"
   ]
  },
  {
   "cell_type": "code",
   "execution_count": 15,
   "metadata": {},
   "outputs": [
    {
     "data": {
      "image/png": "[encoded data removed]",
      "text/plain": [
       "<matplotlib.figure.Figure at 0x24fc871e470>"
      ]
     },
     "metadata": {},
     "output_type": "display_data"
    }
   ],
   "source": [
    "import glob\n",
    "import matplotlib.pyplot as plt\n",
    "import matplotlib.gridspec as gridspec\n",
    "import cv2\n",
    "%matplotlib inline\n",
    "\n",
    "import tensorflow as tf\n",
    "\n",
    "from pandas.io.parsers import read_csv\n",
    "\n",
    "ImagePath = './test/*.png'\n",
    "test_images = []\n",
    "\n",
    "for index, img in enumerate(glob.glob(ImagePath)):\n",
    "    image = cv2.imread(img)\n",
    "    image = cv2.resize(image, (32, 32))\n",
    "    image = cv2.cvtColor(image, cv2.COLOR_BGR2RGB)\n",
    "    test_images.append(image)\n",
    "\n",
    "# Show original test images\n",
    "figure = plt.figure()\n",
    "figure.set_figwidth(10)\n",
    "figure.set_figheight(3)\n",
    "\n",
    "for index, image in enumerate(test_images):\n",
    "    t = figure.add_subplot(2, 8, index + 1)\n",
    "    t.axis('off')\n",
    "    t.imshow(image)"
   ]
  },
  {
   "cell_type": "markdown",
   "metadata": {},
   "source": [
    "### Load and Output the Images"
   ]
  },
  {
   "cell_type": "code",
   "execution_count": null,
   "metadata": {
    "collapsed": true
   },
   "outputs": [],
   "source": [
    "### Load the images and plot them here."
   ]
  },
  {
   "cell_type": "code",
   "execution_count": 16,
   "metadata": {},
   "outputs": [
    {
     "data": {
      "image/png": "[encoded data removed]",
      "text/plain": [
       "<matplotlib.figure.Figure at 0x24f97e5a278>"
      ]
     },
     "metadata": {},
     "output_type": "display_data"
    }
   ],
   "source": [
    "X_test_new = np.array(test_images)\n",
    "X_test_new = preprocess(X_test_new)\n",
    "\n",
    "# Show preprocessed test images\n",
    "figure = plt.figure()\n",
    "figure.set_figwidth(11)\n",
    "figure.set_figheight(4)\n",
    "\n",
    "for index, image in enumerate(X_test_new):\n",
    "    t = figure.add_subplot(2, 10, index + 1)\n",
    "    t.axis('off')\n",
    "    image = X_test_new[index].squeeze()\n",
    "    t.imshow(image, cmap='gray')"
   ]
  },
  {
   "cell_type": "markdown",
   "metadata": {},
   "source": [
    "### Predict the Sign Type for Each Image"
   ]
  },
  {
   "cell_type": "code",
   "execution_count": null,
   "metadata": {
    "collapsed": true
   },
   "outputs": [],
   "source": [
    "### Run the predictions here and use the model to output the prediction for each image.\n",
    "### Make sure to pre-process the images with the same pre-processing pipeline used earlier."
   ]
  },
  {
   "cell_type": "code",
   "execution_count": 17,
   "metadata": {},
   "outputs": [
    {
     "name": "stdout",
     "output_type": "stream",
     "text": [
      "INFO:tensorflow:Restoring parameters from ./tscnet\n",
      "Priority road (100.00%)\n",
      "Pedestrians (89.93%)\n",
      "Stop (99.82%)\n",
      "Speed limit (50km/h) (31.02%)\n",
      "Keep right (100.00%)\n",
      "Speed limit (50km/h) (68.56%)\n",
      "No passing for vehicles over 3.5 metric tons (99.98%)\n",
      "Speed limit (80km/h) (99.71%)\n",
      "Right-of-way at the next intersection (99.81%)\n",
      "No entry (99.95%)\n"
     ]
    }
   ],
   "source": [
    "signnames = read_csv(\"signnames.csv\").values[:, 1]\n",
    "with tf.Session() as sess:\n",
    "    saver = tf.train.import_meta_graph('./tscnet.meta')\n",
    "    saver.restore(sess, save_path='./tscnet')\n",
    "    \n",
    "    # Calculate the top 5\n",
    "    softmax_logits = tf.nn.softmax(logits)\n",
    "    top_5 = tf.nn.top_k(softmax_logits, k=5)\n",
    "    top_5_pred = sess.run(top_5, feed_dict={x: X_test_new, keep_prob: 1.0})\n",
    "    \n",
    "    predict_values = top_5_pred.values\n",
    "    predict_indices = top_5_pred.indices\n",
    "    \n",
    "    for i, image in enumerate(X_test_new):\n",
    "        predict = predict_values[i][0]\n",
    "        signname = signnames[predict_indices[i][0].astype(int)]\n",
    "        # print the sign name and its probability\n",
    "        print('{} ({:.2f}%)'.format(signname, 100*predict))"
   ]
  },
  {
   "cell_type": "markdown",
   "metadata": {},
   "source": [
    "### Analyze Performance"
   ]
  },
  {
   "cell_type": "code",
   "execution_count": null,
   "metadata": {
    "collapsed": true
   },
   "outputs": [],
   "source": [
    "### Calculate the accuracy for these 5 new images. \n",
    "### For example, if the model predicted 1 out of 5 signs correctly, it's 20% accurate on these new images."
   ]
  },
  {
   "cell_type": "code",
   "execution_count": 18,
   "metadata": {},
   "outputs": [
    {
     "name": "stdout",
     "output_type": "stream",
     "text": [
      "Prediction accuracy on new images:  80.0 %\n"
     ]
    }
   ],
   "source": [
    "new_img_predict_accuracy = 8/10\n",
    "print('Prediction accuracy on new images: ', new_img_predict_accuracy*100, '%')"
   ]
  },
  {
   "cell_type": "markdown",
   "metadata": {},
   "source": [
    "### Output Top 5 Softmax Probabilities For Each Image Found on the Web"
   ]
  },
  {
   "cell_type": "markdown",
   "metadata": {},
   "source": [
    "For each of the new images, print out the model's softmax probabilities to show the **certainty** of the model's predictions (limit the output to the top 5 probabilities for each image). [`tf.nn.top_k`](https://www.tensorflow.org/versions/r0.12/api_docs/python/nn.html#top_k) could prove helpful here. \n",
    "\n",
    "The example below demonstrates how tf.nn.top_k can be used to find the top k predictions for each image.\n",
    "\n",
    "`tf.nn.top_k` will return the values and indices (class ids) of the top k predictions. So if k=3, for each sign, it'll return the 3 largest probabilities (out of a possible 43) and the correspoding class ids.\n",
    "\n",
    "Take this numpy array as an example. The values in the array represent predictions. The array contains softmax probabilities for five candidate images with six possible classes. `tf.nn.top_k` is used to choose the three classes with the highest probability:\n",
    "\n",
    "```\n",
    "# (5, 6) array\n",
    "a = np.array([[ 0.24879643,  0.07032244,  0.12641572,  0.34763842,  0.07893497,\n",
    "         0.12789202],\n",
    "       [ 0.28086119,  0.27569815,  0.08594638,  0.0178669 ,  0.18063401,\n",
    "         0.15899337],\n",
    "       [ 0.26076848,  0.23664738,  0.08020603,  0.07001922,  0.1134371 ,\n",
    "         0.23892179],\n",
    "       [ 0.11943333,  0.29198961,  0.02605103,  0.26234032,  0.1351348 ,\n",
    "         0.16505091],\n",
    "       [ 0.09561176,  0.34396535,  0.0643941 ,  0.16240774,  0.24206137,\n",
    "         0.09155967]])\n",
    "```\n",
    "\n",
    "Running it through `sess.run(tf.nn.top_k(tf.constant(a), k=3))` produces:\n",
    "\n",
    "```\n",
    "TopKV2(values=array([[ 0.34763842,  0.24879643,  0.12789202],\n",
    "       [ 0.28086119,  0.27569815,  0.18063401],\n",
    "       [ 0.26076848,  0.23892179,  0.23664738],\n",
    "       [ 0.29198961,  0.26234032,  0.16505091],\n",
    "       [ 0.34396535,  0.24206137,  0.16240774]]), indices=array([[3, 0, 5],\n",
    "       [0, 1, 4],\n",
    "       [0, 5, 1],\n",
    "       [1, 3, 5],\n",
    "       [1, 4, 3]], dtype=int32))\n",
    "```\n",
    "\n",
    "Looking just at the first row we get `[ 0.34763842,  0.24879643,  0.12789202]`, you can confirm these are the 3 largest probabilities in `a`. You'll also notice `[3, 0, 5]` are the corresponding indices."
   ]
  },
  {
   "cell_type": "code",
   "execution_count": null,
   "metadata": {
    "collapsed": true
   },
   "outputs": [],
   "source": [
    "# Top 5 softmax possibilities have been calculated above, now the output is visualized here.\n",
    "for i, image in enumerate(X_test_new):\n",
    "    print('Image', i+1)\n",
    "    \n",
    "    for num in range(0, 5):\n",
    "        predict = values[i][num]\n",
    "        signname = signnames[indices[i][num].astype(int)]\n",
    "        # print the sign name and its probability\n",
    "        print('{} ({:.2f}%)'.format(signname, 100*predict))\n",
    "      \n",
    "    print()"
   ]
  }
 ],
 "metadata": {
  "anaconda-cloud": {},
  "kernelspec": {
   "display_name": "Python 3",
   "language": "python",
   "name": "python3"
  },
  "language_info": {
   "codemirror_mode": {
    "name": "ipython",
    "version": 3
   },
   "file_extension": ".py",
   "mimetype": "text/x-python",
   "name": "python",
   "nbconvert_exporter": "python",
   "pygments_lexer": "ipython3",
   "version": "3.5.2"
  }
 },
 "nbformat": 4,
 "nbformat_minor": 1
}
